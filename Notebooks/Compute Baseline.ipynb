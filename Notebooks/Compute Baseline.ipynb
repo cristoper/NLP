{
 "cells": [
  {
   "cell_type": "code",
   "execution_count": 1,
   "metadata": {
    "collapsed": true
   },
   "outputs": [],
   "source": [
    "import pandas as pd"
   ]
  },
  {
   "cell_type": "code",
   "execution_count": 2,
   "metadata": {
    "collapsed": false
   },
   "outputs": [],
   "source": [
    "train = pd.read_table(\"~/Dropbox/NLP Readings/hw 1/POS-training.txt\",'\\t', header=None,  names = ['count', 'word', 'tag'])"
   ]
  },
  {
   "cell_type": "code",
   "execution_count": 3,
   "metadata": {
    "collapsed": true,
    "scrolled": false
   },
   "outputs": [],
   "source": [
    "def create_dict(training):\n",
    "    \"\"\" Create dictionary that will be used for baseline computation.\n",
    "    Arguments:\n",
    "        training: training data that consists of words and tags\n",
    "        \n",
    "    Returns: \n",
    "        returns dictionary of the most popular tag for a given word\n",
    "    \"\"\"\n",
    "    counts = training.groupby(['word', 'tag']).count().reset_index()\n",
    "    count_max = counts.sort_values('count', ascending=False).groupby(['word'], as_index=False).first()  \n",
    "    lookup = count_max.set_index('word')['tag'].to_dict()\n",
    "    #count_max = count_max[counts_max.tag != '.']\n",
    "    #count_max = count_max[count_max.tag != ':']\n",
    "    \n",
    "    tag_counts = training.groupby('tag').count()\n",
    "    get_max = tag_counts.idxmax()\n",
    "    top_tag = tag_counts['count'].idxmax()\n",
    "    lookup.update({'UNK': top_tag}) # for unknown tags, use most popular tag\n",
    "    return lookup"
   ]
  },
  {
   "cell_type": "code",
   "execution_count": 4,
   "metadata": {
    "collapsed": false
   },
   "outputs": [],
   "source": [
    "look_up = create_dict(train)"
   ]
  },
  {
   "cell_type": "code",
   "execution_count": 5,
   "metadata": {
    "collapsed": false
   },
   "outputs": [],
   "source": [
    "train = pd.read_table(\"~/Dropbox/NLP Readings/hw 1/POS-training.txt\",'\\t', header=None, names = ['count', 'word', 'tag'])"
   ]
  },
  {
   "cell_type": "code",
   "execution_count": 6,
   "metadata": {
    "collapsed": false
   },
   "outputs": [],
   "source": [
    "test = pd.read_table(\"~/Dropbox/NLP Readings/hw 1/POS-test.txt\",'\\t', header=None, names = ['count', 'word', 'tag'])"
   ]
  },
  {
   "cell_type": "code",
   "execution_count": 14,
   "metadata": {
    "collapsed": false
   },
   "outputs": [],
   "source": [
    "def predict_tag (data, lookup):\n",
    "    \"\"\"\n",
    "    Assigns a predicted tag and computes accuracy\n",
    "    Arguments:\n",
    "        data: file that contains a column named 'word' and 'tag'\n",
    "        lookup: dictionary of the tag associated with the word\n",
    "    returns:\n",
    "        accuracy: the accuracy of the file\n",
    "    \"\"\"\n",
    "    #data = data[data.word != '.'] #remove periods, because will address nulls in a second\n",
    "    data['predicted_tag'] = data['word'].map(lookup)\n",
    "    data.fillna(value=lookup['UNK'], inplace=True)\n",
    "    data['accuracy'] = data.apply(lambda x: 1 if x.tag == x.predicted_tag else 0, axis=1)\n",
    "    return data['accuracy'].mean()"
   ]
  },
  {
   "cell_type": "code",
   "execution_count": 15,
   "metadata": {
    "collapsed": false
   },
   "outputs": [
    {
     "data": {
      "text/plain": [
       "0.94067339825362029"
      ]
     },
     "execution_count": 15,
     "metadata": {},
     "output_type": "execute_result"
    }
   ],
   "source": [
    "predict_tag(train, look_up)"
   ]
  },
  {
   "cell_type": "code",
   "execution_count": 16,
   "metadata": {
    "collapsed": false
   },
   "outputs": [
    {
     "data": {
      "text/plain": [
       "0.85632804069677815"
      ]
     },
     "execution_count": 16,
     "metadata": {},
     "output_type": "execute_result"
    }
   ],
   "source": [
    "predict_tag(test, look_up)"
   ]
  }
 ],
 "metadata": {
  "kernelspec": {
   "display_name": "Python 3",
   "language": "python",
   "name": "python3"
  },
  "language_info": {
   "codemirror_mode": {
    "name": "ipython",
    "version": 3
   },
   "file_extension": ".py",
   "mimetype": "text/x-python",
   "name": "python",
   "nbconvert_exporter": "python",
   "pygments_lexer": "ipython3",
   "version": "3.5.2+"
  }
 },
 "nbformat": 4,
 "nbformat_minor": 2
}
