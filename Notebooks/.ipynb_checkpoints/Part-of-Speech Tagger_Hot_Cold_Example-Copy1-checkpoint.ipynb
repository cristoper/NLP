{
 "cells": [
  {
   "cell_type": "markdown",
   "metadata": {},
   "source": [
    "## Part-of-Speech Tagger"
   ]
  },
  {
   "cell_type": "code",
   "execution_count": 3,
   "metadata": {
    "collapsed": true
   },
   "outputs": [],
   "source": [
    "import pandas as pd\n",
    "import numpy as np"
   ]
  },
  {
   "cell_type": "markdown",
   "metadata": {},
   "source": [
    "## create transition properties"
   ]
  },
  {
   "cell_type": "code",
   "execution_count": 8,
   "metadata": {
    "collapsed": true
   },
   "outputs": [],
   "source": [
    "tran = np.matrix([[.8, .2, 0],[.6, .3, .1], [.4, .5, .1]])"
   ]
  },
  {
   "cell_type": "code",
   "execution_count": 9,
   "metadata": {},
   "outputs": [
    {
     "data": {
      "text/plain": [
       "matrix([[ 0.8,  0.2,  0. ],\n",
       "        [ 0.6,  0.3,  0.1],\n",
       "        [ 0.4,  0.5,  0.1]])"
      ]
     },
     "execution_count": 9,
     "metadata": {},
     "output_type": "execute_result"
    }
   ],
   "source": [
    "tran"
   ]
  },
  {
   "cell_type": "markdown",
   "metadata": {},
   "source": [
    "## Create observations likelihood. Include all, and then index what you want"
   ]
  },
  {
   "cell_type": "code",
   "execution_count": 26,
   "metadata": {
    "collapsed": true
   },
   "outputs": [],
   "source": [
    "observations = np.matrix([[.2, .4, .4], [.5, .4, .1]]).transpose()"
   ]
  },
  {
   "cell_type": "code",
   "execution_count": 27,
   "metadata": {},
   "outputs": [
    {
     "data": {
      "text/plain": [
       "matrix([[ 0.2,  0.5],\n",
       "        [ 0.4,  0.4],\n",
       "        [ 0.4,  0.1]])"
      ]
     },
     "execution_count": 27,
     "metadata": {},
     "output_type": "execute_result"
    }
   ],
   "source": [
    "observations"
   ]
  },
  {
   "cell_type": "markdown",
   "metadata": {},
   "source": [
    "## create empty dataframe that is two rows, and three columns (one column per observation)"
   ]
  },
  {
   "cell_type": "code",
   "execution_count": 16,
   "metadata": {
    "collapsed": true
   },
   "outputs": [],
   "source": [
    "df = np.zeros((2, 3))"
   ]
  },
  {
   "cell_type": "code",
   "execution_count": 17,
   "metadata": {},
   "outputs": [
    {
     "data": {
      "text/plain": [
       "array([[ 0.,  0.,  0.],\n",
       "       [ 0.,  0.,  0.]])"
      ]
     },
     "execution_count": 17,
     "metadata": {},
     "output_type": "execute_result"
    }
   ],
   "source": [
    "df"
   ]
  },
  {
   "cell_type": "code",
   "execution_count": 30,
   "metadata": {
    "collapsed": true
   },
   "outputs": [],
   "source": [
    "unobserved = ['HOT', 'COLD']\n",
    "events = [1, 3, 1]"
   ]
  },
  {
   "cell_type": "code",
   "execution_count": 31,
   "metadata": {},
   "outputs": [
    {
     "name": "stdout",
     "output_type": "stream",
     "text": [
      "HOT\n",
      "HOT\n",
      "HOT\n",
      "[[ 0.16      0.0384    0.004608]\n",
      " [ 0.1       0.005     0.00576 ]]\n",
      "[[ 0.  0.  0.]\n",
      " [ 0.  1.  0.]]\n"
     ]
    }
   ],
   "source": [
    "probs = []\n",
    "\n",
    "# best_ind should be the same size as df\n",
    "# Each column stores the most likely states for time t\n",
    "# Each row corresponds to a state (HOT, COLD) and stores the most likely previous state (HOT=0, COLD=1)\n",
    "best_ind = np.zeros((2,3))\n",
    "\n",
    "# begin in the first column by setting the Viterbi value in each\n",
    "# cell to the product of the transition probability and\n",
    "# the observation probability\n",
    "for i in range(0,len(unobserved)):\n",
    "    df [i,0] = tran[0,i] * observations[events[0]-1,i]\n",
    "    index = np.argmax(df[:,0])\n",
    "    best_ind[i][0] = index\n",
    "\n",
    "# move on column by column (vocabulary by vocabulary)\n",
    "for t in range(1,len(events)):    \n",
    "    for j in range(0,len(unobserved)):\n",
    "        for k in range (0,len(unobserved)):\n",
    "            # compute the probability of moving into each state\n",
    "            # previous Viterbi path probability from previous step (df [j,t-1])\n",
    "            prev = df[k, t-1]\n",
    "                \n",
    "            # the state observation likelihood (observations [k,t])\n",
    "            event = events[t]-1 # minus 1 because the index into observations should start at 0\n",
    "            obs_prob = observations[event, j]\n",
    "            \n",
    "            # the transition probability\n",
    "            tran_prob = tran[k+1, j] # k+1 because the first row of tran is the start probabilities\n",
    "            \n",
    "            prob = obs_prob * prev * tran_prob\n",
    "            probs.append(prob)\n",
    "            \n",
    "        # select the largest probability for moving into each state to be stored\n",
    "        # in table\n",
    "        df[j,t] = max(probs)\n",
    "\n",
    "        # get the index of which state had the larger probabilty: Hot (0) or Cold (1)\n",
    "        index = np.argmax(probs)\n",
    "        best_ind[j][t] = index\n",
    "        probs = []\n",
    "\n",
    "# termination step:\n",
    "T = len(events) - 1\n",
    "final_prob = []\n",
    "for k in range(0,len(unobserved)):\n",
    "    final_prob.append(df[k, T] * tran[k+1, T])\n",
    "\n",
    "# backtrack:\n",
    "back = np.argmax(final_prob)\n",
    "for i in reversed(range(len(best_ind[1]))):\n",
    "    back = int(best_ind[back, i])\n",
    "    print(unobserved[back])\n",
    "\n",
    "print(df)\n",
    "print(best_ind)"
   ]
  },
  {
   "cell_type": "code",
   "execution_count": null,
   "metadata": {
    "collapsed": true
   },
   "outputs": [],
   "source": []
  }
 ],
 "metadata": {
  "kernelspec": {
   "display_name": "Python 3",
   "language": "python",
   "name": "python3"
  },
  "language_info": {
   "codemirror_mode": {
    "name": "ipython",
    "version": 3
   },
   "file_extension": ".py",
   "mimetype": "text/x-python",
   "name": "python",
   "nbconvert_exporter": "python",
   "pygments_lexer": "ipython3",
   "version": "3.5.2"
  }
 },
 "nbformat": 4,
 "nbformat_minor": 2
}
