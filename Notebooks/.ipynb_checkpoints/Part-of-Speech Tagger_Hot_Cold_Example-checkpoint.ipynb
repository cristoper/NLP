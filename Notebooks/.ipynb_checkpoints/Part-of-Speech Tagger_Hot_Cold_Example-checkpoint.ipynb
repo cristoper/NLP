{
 "cells": [
  {
   "cell_type": "markdown",
   "metadata": {},
   "source": [
    "## Part-of-Speech Tagger"
   ]
  },
  {
   "cell_type": "code",
   "execution_count": 3,
   "metadata": {
    "collapsed": true
   },
   "outputs": [],
   "source": [
    "import pandas as pd\n",
    "import numpy as np"
   ]
  },
  {
   "cell_type": "code",
   "execution_count": null,
   "metadata": {
    "collapsed": true
   },
   "outputs": [],
   "source": []
  },
  {
   "cell_type": "code",
   "execution_count": 7,
   "metadata": {},
   "outputs": [
    {
     "data": {
      "text/plain": [
       "matrix([[ 0.8,  0.2,  0. ],\n",
       "        [ 0.6,  0.3,  0.1],\n",
       "        [ 0.4,  0.5,  0.1]])"
      ]
     },
     "execution_count": 7,
     "metadata": {},
     "output_type": "execute_result"
    }
   ],
   "source": [
    "tran"
   ]
  },
  {
   "cell_type": "code",
   "execution_count": 136,
   "metadata": {
    "scrolled": true
   },
   "outputs": [
    {
     "data": {
      "text/html": [
       "<div>\n",
       "<style>\n",
       "    .dataframe thead tr:only-child th {\n",
       "        text-align: right;\n",
       "    }\n",
       "\n",
       "    .dataframe thead th {\n",
       "        text-align: left;\n",
       "    }\n",
       "\n",
       "    .dataframe tbody tr th {\n",
       "        vertical-align: top;\n",
       "    }\n",
       "</style>\n",
       "<table border=\"1\" class=\"dataframe\">\n",
       "  <thead>\n",
       "    <tr style=\"text-align: right;\">\n",
       "      <th></th>\n",
       "      <th>COLD</th>\n",
       "      <th>HOT</th>\n",
       "    </tr>\n",
       "  </thead>\n",
       "  <tbody>\n",
       "    <tr>\n",
       "      <th>0</th>\n",
       "      <td>0.2</td>\n",
       "      <td>0.8</td>\n",
       "    </tr>\n",
       "    <tr>\n",
       "      <th>1</th>\n",
       "      <td>0.3</td>\n",
       "      <td>0.7</td>\n",
       "    </tr>\n",
       "    <tr>\n",
       "      <th>2</th>\n",
       "      <td>0.6</td>\n",
       "      <td>0.4</td>\n",
       "    </tr>\n",
       "  </tbody>\n",
       "</table>\n",
       "</div>"
      ],
      "text/plain": [
       "   COLD  HOT\n",
       "0   0.2  0.8\n",
       "1   0.3  0.7\n",
       "2   0.6  0.4"
      ]
     },
     "execution_count": 136,
     "metadata": {},
     "output_type": "execute_result"
    }
   ],
   "source": [
    "transition"
   ]
  },
  {
   "cell_type": "markdown",
   "metadata": {},
   "source": [
    "## Create observations likelihood. Here, based on sequence 3,1,3"
   ]
  },
  {
   "cell_type": "code",
   "execution_count": 138,
   "metadata": {
    "collapsed": true
   },
   "outputs": [],
   "source": [
    "observations = np.matrix([[.4, .2, .4], [.1, .5, .1]])"
   ]
  },
  {
   "cell_type": "code",
   "execution_count": 139,
   "metadata": {},
   "outputs": [
    {
     "data": {
      "text/plain": [
       "matrix([[ 0.4,  0.2,  0.4],\n",
       "        [ 0.1,  0.5,  0.1]])"
      ]
     },
     "execution_count": 139,
     "metadata": {},
     "output_type": "execute_result"
    }
   ],
   "source": [
    "observations"
   ]
  },
  {
   "cell_type": "markdown",
   "metadata": {},
   "source": [
    "## create empty dataframe that is two rows, and three columns (one column per observation)"
   ]
  },
  {
   "cell_type": "code",
   "execution_count": 140,
   "metadata": {
    "collapsed": true
   },
   "outputs": [],
   "source": [
    "df = np.zeros((2, 3))"
   ]
  },
  {
   "cell_type": "code",
   "execution_count": 141,
   "metadata": {},
   "outputs": [
    {
     "data": {
      "text/plain": [
       "array([[ 0.,  0.,  0.],\n",
       "       [ 0.,  0.,  0.]])"
      ]
     },
     "execution_count": 141,
     "metadata": {},
     "output_type": "execute_result"
    }
   ],
   "source": [
    "df"
   ]
  },
  {
   "cell_type": "markdown",
   "metadata": {},
   "source": [
    "## Get list of the unobserved states and the vocabulary"
   ]
  },
  {
   "cell_type": "code",
   "execution_count": 173,
   "metadata": {
    "collapsed": true
   },
   "outputs": [],
   "source": [
    "unobserved = ['Hot', 'Cold']\n",
    "vocab = [3, 1, 3]"
   ]
  },
  {
   "cell_type": "code",
   "execution_count": 174,
   "metadata": {
    "collapsed": true
   },
   "outputs": [],
   "source": [
    "probs = []\n",
    "best_ind = []"
   ]
  },
  {
   "cell_type": "code",
   "execution_count": 175,
   "metadata": {
    "scrolled": true
   },
   "outputs": [
    {
     "name": "stdout",
     "output_type": "stream",
     "text": [
      "Hot\n",
      "Hot\n",
      "Hot\n",
      "[[ 0.32    0.128   0.0512]\n",
      " [ 0.02    0.008   0.0032]]\n"
     ]
    }
   ],
   "source": [
    "# begin in the first column by setting the Viterbi value in each\n",
    "# cell to the product of the transition probability and\n",
    "# the observation probability\n",
    "for i in range(0,len(unobserved)):\n",
    "    df [i,0] = tran[0,i] * observations [i,0]\n",
    "index = np.argmax(df[:,0])\n",
    "best_ind.append(index)\n",
    "# move on column by column (vocabulary by vocabulary)\n",
    "for t in range(1,len(vocab)):    \n",
    "    for j in range(0,len(unobserved)):\n",
    "        for k in range (0,len(unobserved)):\n",
    "            # compute the probability of moving into each state\n",
    "            # previous Viterbi path probability from previous step (df [j,h-1])\n",
    "            # the state observation likelihood (observations [k,h])\n",
    "            # the transition probability?? I'm not seeing this reflected in figure 10.9 -- is it a constant?\n",
    "            prob = observations [k,h] * df [j,t-1]\n",
    "            probs.append(prob)\n",
    "        # select the largest probability for moving into each state to be stored\n",
    "        # in table\n",
    "        df [j,t] = max(probs)\n",
    "        probs = []\n",
    "    # get the index of which state had the larger probabilty: Hot (0) or Cold (1) \n",
    "    index = np.argmax(df[:,t])\n",
    "    best_ind.append(index)\n",
    "for i in best_ind:\n",
    "    print(unobserved[i])\n",
    "print(df)"
   ]
  }
 ],
 "metadata": {
  "kernelspec": {
   "display_name": "Python 3",
   "language": "python",
   "name": "python3"
  },
  "language_info": {
   "codemirror_mode": {
    "name": "ipython",
    "version": 3
   },
   "file_extension": ".py",
   "mimetype": "text/x-python",
   "name": "python",
   "nbconvert_exporter": "python",
   "pygments_lexer": "ipython3",
   "version": "3.5.2"
  }
 },
 "nbformat": 4,
 "nbformat_minor": 2
}
