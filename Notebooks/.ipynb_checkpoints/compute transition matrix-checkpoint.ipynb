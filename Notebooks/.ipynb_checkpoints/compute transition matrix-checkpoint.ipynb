{
 "cells": [
  {
   "cell_type": "code",
   "execution_count": 2,
   "metadata": {
    "collapsed": true
   },
   "outputs": [],
   "source": [
    "import pandas as pd"
   ]
  },
  {
   "cell_type": "code",
   "execution_count": 1,
   "metadata": {
    "collapsed": true
   },
   "outputs": [],
   "source": [
    "# out of the times we see the first tag in a labeled corpus\n",
    "# how often is the first tag folowed by the second"
   ]
  },
  {
   "cell_type": "code",
   "execution_count": 57,
   "metadata": {
    "collapsed": true
   },
   "outputs": [],
   "source": [
    "# read in training\n",
    "train = pd.read_table(\"/Users/amyburkhardt/Dropbox/NLP Readings/hw 1/POS-training.txt\",'\\t', header=None, skip_blank_lines=False, names = ['word_Num', 'word', 'tag'])"
   ]
  },
  {
   "cell_type": "code",
   "execution_count": 59,
   "metadata": {},
   "outputs": [],
   "source": [
    "# create the ngram matrix\n",
    "tag_1 = train['tag']"
   ]
  },
  {
   "cell_type": "code",
   "execution_count": 60,
   "metadata": {},
   "outputs": [
    {
     "data": {
      "text/plain": [
       "0         PRP\n",
       "1          MD\n",
       "2          VB\n",
       "3          TO\n",
       "4          VB\n",
       "5          IN\n",
       "6          DT\n",
       "7          JJ\n",
       "8          NN\n",
       "9           .\n",
       "10        NaN\n",
       "11        PRP\n",
       "12         MD\n",
       "13         VB\n",
       "14         JJ\n",
       "15         NN\n",
       "16          .\n",
       "17        NaN\n",
       "18         JJ\n",
       "19         NN\n",
       "20          .\n",
       "21        NaN\n",
       "22         JJ\n",
       "23         NN\n",
       "24          .\n",
       "25        NaN\n",
       "26         NN\n",
       "27          .\n",
       "28        NaN\n",
       "29        PRP\n",
       "         ... \n",
       "154015     VB\n",
       "154016     CD\n",
       "154017     NN\n",
       "154018     IN\n",
       "154019     CD\n",
       "154020     NN\n",
       "154021      .\n",
       "154022    NaN\n",
       "154023    PRP\n",
       "154024    VBP\n",
       "154025     TO\n",
       "154026     VB\n",
       "154027     UH\n",
       "154028    PRP\n",
       "154029    VBP\n",
       "154030     TO\n",
       "154031     VB\n",
       "154032     IN\n",
       "154033     NN\n",
       "154034     NN\n",
       "154035     IN\n",
       "154036     DT\n",
       "154037     MD\n",
       "154038     VB\n",
       "154039     CD\n",
       "154040     NN\n",
       "154041     IN\n",
       "154042     CD\n",
       "154043     NN\n",
       "154044      .\n",
       "Name: tag, Length: 154045, dtype: object"
      ]
     },
     "execution_count": 60,
     "metadata": {},
     "output_type": "execute_result"
    }
   ],
   "source": [
    "tag_1"
   ]
  },
  {
   "cell_type": "code",
   "execution_count": 63,
   "metadata": {},
   "outputs": [],
   "source": [
    "tag_2 = tag_1[1:tag_1.shape[0]]"
   ]
  },
  {
   "cell_type": "code",
   "execution_count": 62,
   "metadata": {
    "collapsed": true
   },
   "outputs": [],
   "source": [
    "# compute probabilities "
   ]
  },
  {
   "cell_type": "code",
   "execution_count": 66,
   "metadata": {},
   "outputs": [],
   "source": [
    "#Blank lines are the real sentence delimiter.\n",
    "bigram_tags = list(zip(tag_1, tag_2))"
   ]
  },
  {
   "cell_type": "code",
   "execution_count": null,
   "metadata": {},
   "outputs": [],
   "source": [
    "for first, second in bigram_tags:\n",
    "    print(first)"
   ]
  },
  {
   "cell_type": "code",
   "execution_count": null,
   "metadata": {
    "collapsed": true
   },
   "outputs": [],
   "source": []
  }
 ],
 "metadata": {
  "kernelspec": {
   "display_name": "Python 3",
   "language": "python",
   "name": "python3"
  },
  "language_info": {
   "codemirror_mode": {
    "name": "ipython",
    "version": 3
   },
   "file_extension": ".py",
   "mimetype": "text/x-python",
   "name": "python",
   "nbconvert_exporter": "python",
   "pygments_lexer": "ipython3",
   "version": "3.5.2"
  }
 },
 "nbformat": 4,
 "nbformat_minor": 2
}
