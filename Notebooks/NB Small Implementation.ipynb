{
 "cells": [
  {
   "cell_type": "code",
   "execution_count": 8,
   "metadata": {
    "collapsed": true
   },
   "outputs": [],
   "source": [
    "from collections import Counter\n",
    "import re\n",
    "import math"
   ]
  },
  {
   "cell_type": "code",
   "execution_count": 9,
   "metadata": {
    "collapsed": true
   },
   "outputs": [],
   "source": [
    "# todo: lower case and other normalization\n",
    "# todo: address unknown words (I think I did this already)\n",
    "# todo: logs of probabilities "
   ]
  },
  {
   "cell_type": "code",
   "execution_count": 10,
   "metadata": {
    "collapsed": true
   },
   "outputs": [],
   "source": [
    "class1 = ['Chinese!!','Beijing','Chinese','Chinese','Chinese','Chinese','Shanghai','Chinese','Macao']\n",
    "class2 = ['Tokyo', 'Japan??','Chinese!!!!']\n",
    "test = ['Chinese','Chinese????','Chinese','Tokyo','Japan']"
   ]
  },
  {
   "cell_type": "code",
   "execution_count": 11,
   "metadata": {
    "collapsed": true
   },
   "outputs": [],
   "source": [
    "# read in all POS words as class 1\n",
    "# read in all NEG words as class 2\n",
    "# read in test as test"
   ]
  },
  {
   "cell_type": "code",
   "execution_count": 28,
   "metadata": {
    "collapsed": true
   },
   "outputs": [],
   "source": [
    "# compute priors\n",
    "p_class1 = .75\n",
    "p_class2 = .25"
   ]
  },
  {
   "cell_type": "code",
   "execution_count": 29,
   "metadata": {
    "collapsed": true
   },
   "outputs": [],
   "source": [
    "count_c1 = dict(Counter(class1))\n",
    "count_c2 = dict(Counter(class2))\n",
    "total_class1 = len(class1)\n",
    "total_class2 = len(class2)"
   ]
  },
  {
   "cell_type": "code",
   "execution_count": 30,
   "metadata": {
    "collapsed": true
   },
   "outputs": [],
   "source": [
    "def naive_bayes(): \n",
    "\n",
    "    \n",
    "    def preprocess (class_words): \n",
    "        class_words = [x.upper() for x in class_words]\n",
    "        class_words = [re.sub(r'[^A-Za-z]+', '',x) for x in class_words]\n",
    "        return  class_words\n",
    "    \n",
    "    def countwords(class_words): \n",
    "        count = dict(Counter(class_words))\n",
    "        return count\n",
    "\n",
    "    def lenwords (class_words):\n",
    "        total = len(class_words)\n",
    "        return total\n",
    "        \n",
    "    def conditional_prob (count, total): \n",
    "        cond_prob_class1 = {}\n",
    "        keys = []\n",
    "        prob = []\n",
    "        for word in set(merge):\n",
    "            try: \n",
    "                probs = (count[word] + 1) / (total + V)\n",
    "            except: \n",
    "                probs = (1) / (total + V)\n",
    "    \n",
    "            keys.append(word)\n",
    "            prob.append(probs)\n",
    "\n",
    "        conditional = dict(zip(keys, prob))  \n",
    "        return conditional\n",
    "\n",
    "    def compute_prob_test (test, conditional_prob, prior):\n",
    "        prob = prior\n",
    "        for word in test:\n",
    "            prob = conditional_prob[word] * prob\n",
    "        return prob\n",
    "    \n",
    "    \n",
    "    def evaluate (prob_1, prob_2):\n",
    "        if prob_1 > prob_2: \n",
    "            print('class 1')\n",
    "            print(prob_1)\n",
    "        else:\n",
    "            print('class 2')\n",
    "            print(prob_2)\n",
    "            \n",
    "    c1 = preprocess(class1)\n",
    "    c2 = preprocess(class2)\n",
    "    t = preprocess(test)\n",
    "    c1_count = countwords(c1)\n",
    "    c2_count = countwords(c2)\n",
    "    c1_total = lenwords(c1)\n",
    "    c2_total = lenwords(c2)\n",
    "    merge = c1 + c2\n",
    "    V = len(set(merge))\n",
    "    \n",
    "    class_1_conditional = conditional_prob(c1_count, c1_total)\n",
    "    class_2_conditional = conditional_prob(c2_count, c2_total)\n",
    "    prob1 = compute_prob_test(t, class_1_conditional, p_class1)\n",
    "    prob2 = compute_prob_test(t, class_2_conditional, p_class2)\n",
    "    evaluate(prob1, prob2) "
   ]
  },
  {
   "cell_type": "code",
   "execution_count": 31,
   "metadata": {},
   "outputs": [
    {
     "name": "stdout",
     "output_type": "stream",
     "text": [
      "class 1\n",
      "0.0003387654320987654\n"
     ]
    }
   ],
   "source": [
    "naive_bayes()"
   ]
  }
 ],
 "metadata": {
  "kernelspec": {
   "display_name": "Python 3",
   "language": "python",
   "name": "python3"
  },
  "language_info": {
   "codemirror_mode": {
    "name": "ipython",
    "version": 3
   },
   "file_extension": ".py",
   "mimetype": "text/x-python",
   "name": "python",
   "nbconvert_exporter": "python",
   "pygments_lexer": "ipython3",
   "version": "3.5.2"
  }
 },
 "nbformat": 4,
 "nbformat_minor": 2
}
