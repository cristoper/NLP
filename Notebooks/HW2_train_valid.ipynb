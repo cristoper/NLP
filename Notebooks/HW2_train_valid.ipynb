{
 "cells": [
  {
   "cell_type": "code",
   "execution_count": 14,
   "metadata": {
    "collapsed": true
   },
   "outputs": [],
   "source": [
    "from random import random\n",
    "import math\n",
    "import re"
   ]
  },
  {
   "cell_type": "code",
   "execution_count": 15,
   "metadata": {},
   "outputs": [
    {
     "name": "stdout",
     "output_type": "stream",
     "text": [
      "Wrote 78 lines to /Users/amyburkhardt/Dropbox/NLP Readings/hw 2/hotelPosT-rand_training.txt\n",
      "Wrote 17 lines to /Users/amyburkhardt/Dropbox/NLP Readings/hw 2/rand_test_neg_and_pos.txt\n"
     ]
    }
   ],
   "source": [
    "## Positive Reviews\n",
    "keep_prob = .80\n",
    "\n",
    "# path to the training output file\n",
    "train_path = \"/Users/amyburkhardt/Dropbox/NLP Readings/hw 2/hotelPosT-rand_training.txt\"\n",
    "# path to the testing output file\n",
    "test_path = \"/Users/amyburkhardt/Dropbox/NLP Readings/hw 2/rand_test_neg_and_pos.txt\"\n",
    "\n",
    "# path to the evaluation file (review_id and POS or NEG)\n",
    "eval_path = \"/Users/amyburkhardt/Dropbox/NLP Readings/hw 2/eval_rand_neg_and_pos.txt\"\n",
    "\n",
    "# open output files\n",
    "train_f = open(train_path, 'w')\n",
    "test_f = open(test_path, 'w')\n",
    "eval_f = open(eval_path, 'w')\n",
    "\n",
    "\n",
    "keep_count = 0\n",
    "test_count = 0\n",
    "with open (\"/Users/amyburkhardt/Dropbox/NLP Readings/hw 2/hotelPosT-train.txt\") as pos: \n",
    "\n",
    "    for line in pos:\n",
    "        line = line.rstrip('\\n')\n",
    "        review_id = re.split('\\t',line)[0]\n",
    "        if random() <= keep_prob:\n",
    "            # write to train_corpus\n",
    "            train_f.write(line+'\\n')\n",
    "            keep_count += 1\n",
    "        else:\n",
    "            # write to test_corpus\n",
    "            test_f.write(line +'\\n')\n",
    "            test_count += 1\n",
    "            eval_f.write(review_id+'\\tPOS\\n')\n",
    "            \n",
    "    # close output files\n",
    "    train_f.close()\n",
    "    test_f.close()\n",
    "    eval_f.close()\n",
    "\n",
    "    # report\n",
    "    print(\"Wrote %d lines to %s\" % (keep_count, train_path))\n",
    "    print(\"Wrote %d lines to %s\" % (test_count, test_path))\n"
   ]
  },
  {
   "cell_type": "code",
   "execution_count": 16,
   "metadata": {},
   "outputs": [
    {
     "name": "stdout",
     "output_type": "stream",
     "text": [
      "Wrote 73 lines to /Users/amyburkhardt/Dropbox/NLP Readings/hw 2/hotelNegT-rand_training.txt\n",
      "Wrote 21 lines to /Users/amyburkhardt/Dropbox/NLP Readings/hw 2/rand_test_neg_and_pos.txt\n"
     ]
    }
   ],
   "source": [
    "## Negative Reviews\n",
    "keep_prob = .80\n",
    "\n",
    "# path to the training output file\n",
    "train_path = \"/Users/amyburkhardt/Dropbox/NLP Readings/hw 2/hotelNegT-rand_training.txt\"\n",
    "# path to the testing output file\n",
    "test_path = \"/Users/amyburkhardt/Dropbox/NLP Readings/hw 2/rand_test_neg_and_pos.txt\"\n",
    "# path to the evaluation file (review_id and POS or NEG)\n",
    "eval_path = \"/Users/amyburkhardt/Dropbox/NLP Readings/hw 2/eval_rand_neg_and_pos.txt\"\n",
    "\n",
    "# open output files\n",
    "train_f = open(train_path, 'w')\n",
    "test_f = open(test_path, 'a')\n",
    "eval_f = open(eval_path, 'a')\n",
    "\n",
    "\n",
    "\n",
    "keep_count = 0\n",
    "test_count = 0\n",
    "with open (\"/Users/amyburkhardt/Dropbox/NLP Readings/hw 2/hotelNegT-train.txt\") as pos: \n",
    "\n",
    "    for line in pos:\n",
    "        line = line.rstrip('\\n')\n",
    "        review_id = re.split('\\t',line)[0]\n",
    "        if random() <= keep_prob:\n",
    "            # write to train_corpus\n",
    "            train_f.write(line+'\\n')\n",
    "            keep_count += 1\n",
    "        else:\n",
    "            # write to test_corpus\n",
    "            test_f.write(line +'\\n')\n",
    "            test_count += 1\n",
    "            eval_f.write(review_id+'\\tNEG\\n')\n",
    "            \n",
    "    # close output files\n",
    "    train_f.close()\n",
    "    test_f.close()\n",
    "    eval_f.close()\n",
    "\n",
    "    # report\n",
    "    print(\"Wrote %d lines to %s\" % (keep_count, train_path))\n",
    "    print(\"Wrote %d lines to %s\" % (test_count, test_path))"
   ]
  },
  {
   "cell_type": "code",
   "execution_count": null,
   "metadata": {
    "collapsed": true
   },
   "outputs": [],
   "source": []
  }
 ],
 "metadata": {
  "kernelspec": {
   "display_name": "Python 3",
   "language": "python",
   "name": "python3"
  },
  "language_info": {
   "codemirror_mode": {
    "name": "ipython",
    "version": 3
   },
   "file_extension": ".py",
   "mimetype": "text/x-python",
   "name": "python",
   "nbconvert_exporter": "python",
   "pygments_lexer": "ipython3",
   "version": "3.5.2"
  }
 },
 "nbformat": 4,
 "nbformat_minor": 2
}
