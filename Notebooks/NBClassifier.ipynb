{
 "cells": [
  {
   "cell_type": "code",
   "execution_count": 30,
   "metadata": {
    "collapsed": false
   },
   "outputs": [
    {
     "ename": "ImportError",
     "evalue": "cannot import name 'NBClassifier'",
     "output_type": "error",
     "traceback": [
      "\u001b[0;31m---------------------------------------------------------------------------\u001b[0m",
      "\u001b[0;31mImportError\u001b[0m                               Traceback (most recent call last)",
      "\u001b[0;32m<ipython-input-30-ce520926cc7b>\u001b[0m in \u001b[0;36m<module>\u001b[0;34m()\u001b[0m\n\u001b[1;32m      5\u001b[0m \u001b[0;32mfrom\u001b[0m \u001b[0mcollections\u001b[0m \u001b[0;32mimport\u001b[0m \u001b[0mCounter\u001b[0m\u001b[0;34m\u001b[0m\u001b[0m\n\u001b[1;32m      6\u001b[0m \u001b[0msys\u001b[0m\u001b[0;34m.\u001b[0m\u001b[0mpath\u001b[0m\u001b[0;34m.\u001b[0m\u001b[0minsert\u001b[0m\u001b[0;34m(\u001b[0m\u001b[0;36m0\u001b[0m\u001b[0;34m,\u001b[0m \u001b[0;34m'..'\u001b[0m\u001b[0;34m)\u001b[0m\u001b[0;34m\u001b[0m\u001b[0m\n\u001b[0;32m----> 7\u001b[0;31m \u001b[0;32mfrom\u001b[0m \u001b[0mnbmodel\u001b[0m \u001b[0;32mimport\u001b[0m \u001b[0mNBClassifier\u001b[0m\u001b[0;34m\u001b[0m\u001b[0m\n\u001b[0m",
      "\u001b[0;31mImportError\u001b[0m: cannot import name 'NBClassifier'"
     ]
    }
   ],
   "source": [
    "import sys\n",
    "import math\n",
    "import os\n",
    "import re\n",
    "from collections import Counter\n",
    "sys.path.insert(0, '..')\n",
    "from nbmodel import NBClassifier"
   ]
  },
  {
   "cell_type": "code",
   "execution_count": 31,
   "metadata": {
    "collapsed": false
   },
   "outputs": [],
   "source": [
    "pos_path = os.path.expanduser(\"~/Dropbox/NLP Readings/hw 2/hotelPosT-rand_training.txt\")\n",
    "neg_path = os.path.expanduser(\"~/Dropbox/NLP Readings/hw 2/hotelNegT-rand_training.txt\")\n",
    "test_path = os.path.expanduser(\"~/Dropbox/NLP Readings/hw 2/rand_test_neg_and_pos.txt\")\n",
    "eval_path = os.path.expanduser(\"~/Dropbox/NLP Readings/hw 2/eval_rand_neg_and_pos.txt\")"
   ]
  },
  {
   "cell_type": "code",
   "execution_count": 32,
   "metadata": {
    "collapsed": true
   },
   "outputs": [],
   "source": [
    "def file_to_tuples(path, cat):\n",
    "    \"\"\"\n",
    "    Create and normalize document tuples from path.\n",
    "    \n",
    "    Returns list of tuples: [(text, cat), ...]\n",
    "    \"\"\"\n",
    "    tuples = []\n",
    "    with open(path) as f:\n",
    "        for line in f:\n",
    "            line = re.split('\\t', line)[1:] #ignore first and last element in the list.\n",
    "            line = line[0].lower()\n",
    "            line = line.rstrip()\n",
    "            line = re.sub(r'[^a-z|^0-9|^\\s]+', '' , line)\n",
    "            tuples.append((line, cat))\n",
    "    return tuples"
   ]
  },
  {
   "cell_type": "code",
   "execution_count": 25,
   "metadata": {
    "collapsed": false
   },
   "outputs": [],
   "source": [
    "pos_docs = file_to_tuples(pos_path, 'pos')\n",
    "neg_docs = file_to_tuples(neg_path, 'neg')"
   ]
  },
  {
   "cell_type": "code",
   "execution_count": 19,
   "metadata": {
    "collapsed": false
   },
   "outputs": [
    {
     "name": "stdout",
     "output_type": "stream",
     "text": [
      "10749\n",
      "1727\n",
      "11743\n",
      "11502\n"
     ]
    }
   ],
   "source": [
    "m = NBModel(['pos', 'neg'])\n",
    "m.train(pos_docs)\n",
    "m.train(neg_docs)"
   ]
  },
  {
   "cell_type": "code",
   "execution_count": 26,
   "metadata": {
    "collapsed": false
   },
   "outputs": [],
   "source": [
    "# make predictions\n",
    "predictions = {}\n",
    "with open(test_path) as f:\n",
    "    for line in f:\n",
    "        review_id, review = line.split(\"\\t\")\n",
    "        review = review.lower()\n",
    "        review = review.rstrip()\n",
    "        review = re.sub(r'[^a-z|^0-9|^\\s]+', '' , review)\n",
    "        cat = m.predict(review)\n",
    "        predictions[review_id] = cat"
   ]
  },
  {
   "cell_type": "code",
   "execution_count": 27,
   "metadata": {
    "collapsed": false
   },
   "outputs": [],
   "source": [
    "# get gold categories\n",
    "golden = {}\n",
    "with open(eval_path) as f:\n",
    "    for line in f:\n",
    "        review_id, cat = line.split(\"\\t\")\n",
    "        golden[review_id] = cat.lower().rstrip()"
   ]
  },
  {
   "cell_type": "code",
   "execution_count": 28,
   "metadata": {
    "collapsed": false
   },
   "outputs": [],
   "source": [
    "def evaluate(gold_dict, pred_dict, beta=1):\n",
    "    tp, tn, fp, fn = 0, 0, 0, 0\n",
    "    for review_id, cat in pred_dict.items():\n",
    "        golden_cat = gold_dict[review_id]\n",
    "        print(review_id, cat, golden_cat)\n",
    "        if golden_cat == 'pos':\n",
    "            if cat == 'pos':\n",
    "                tp += 1\n",
    "            else:\n",
    "                fn += 1\n",
    "        else:\n",
    "            if cat == 'pos':\n",
    "                fp += 1\n",
    "            else:\n",
    "                tn += 1\n",
    "    precision = tp / (tp+fp)\n",
    "    recall = tp / (tp+fn)\n",
    "    accuracy = (tp + tn)/(tp+tn+fp+fn)\n",
    "    f1 = ((beta**2 + 1) * precision * recall) / ((beta**2 * precision) + recall)\n",
    "    print(tp, tn, fp, fn)\n",
    "    return (f1, accuracy, precision, recall)"
   ]
  },
  {
   "cell_type": "code",
   "execution_count": 29,
   "metadata": {
    "collapsed": false
   },
   "outputs": [
    {
     "name": "stdout",
     "output_type": "stream",
     "text": [
      "ID-1088 pos pos\n",
      "ID-1196 neg pos\n",
      "ID-0909 neg neg\n",
      "ID-0921 neg neg\n",
      "ID-0913 neg neg\n",
      "ID-1180 pos pos\n",
      "ID-1124 pos pos\n",
      "ID-0969 neg neg\n",
      "ID-0951 neg neg\n",
      "ID-0967 neg neg\n",
      "ID-1017 neg neg\n",
      "ID-1118 pos pos\n",
      "ID-1262 pos pos\n",
      "ID-0927 neg neg\n",
      "ID-1023 neg neg\n",
      "ID-0833 neg neg\n",
      "ID-1027 neg neg\n",
      "ID-0841 neg neg\n",
      "ID-1266 pos pos\n",
      "ID-1212 pos pos\n",
      "ID-1104 pos pos\n",
      "ID-1114 pos pos\n",
      "ID-1112 pos pos\n",
      "ID-0889 neg neg\n",
      "ID-0871 neg neg\n",
      "ID-1106 pos pos\n",
      "ID-1029 neg neg\n",
      "ID-1136 pos pos\n",
      "ID-1001 neg neg\n",
      "ID-0867 neg neg\n",
      "ID-1150 pos pos\n",
      "ID-1134 pos pos\n",
      "ID-0963 pos neg\n",
      "ID-1230 pos pos\n",
      "ID-1168 pos pos\n",
      "ID-0817 neg neg\n",
      "ID-1007 neg neg\n",
      "ID-0819 neg neg\n",
      "16 20 1 1\n"
     ]
    },
    {
     "data": {
      "text/plain": [
       "(0.9411764705882353,\n",
       " 0.9473684210526315,\n",
       " 0.9411764705882353,\n",
       " 0.9411764705882353)"
      ]
     },
     "execution_count": 29,
     "metadata": {},
     "output_type": "execute_result"
    }
   ],
   "source": [
    "evaluate(golden, predictions)"
   ]
  },
  {
   "cell_type": "code",
   "execution_count": null,
   "metadata": {
    "collapsed": true
   },
   "outputs": [],
   "source": []
  },
  {
   "cell_type": "code",
   "execution_count": null,
   "metadata": {
    "collapsed": true
   },
   "outputs": [],
   "source": []
  }
 ],
 "metadata": {
  "kernelspec": {
   "display_name": "Python 3",
   "language": "python",
   "name": "python3"
  },
  "language_info": {
   "codemirror_mode": {
    "name": "ipython",
    "version": 3
   },
   "file_extension": ".py",
   "mimetype": "text/x-python",
   "name": "python",
   "nbconvert_exporter": "python",
   "pygments_lexer": "ipython3",
   "version": "3.5.2+"
  }
 },
 "nbformat": 4,
 "nbformat_minor": 2
}
