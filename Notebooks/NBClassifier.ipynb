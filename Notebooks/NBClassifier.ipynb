{
 "cells": [
  {
   "cell_type": "code",
   "execution_count": 1,
   "metadata": {
    "collapsed": false
   },
   "outputs": [],
   "source": [
    "import sys\n",
    "import math\n",
    "import os\n",
    "import re\n",
    "from collections import Counter\n",
    "sys.path.insert(0, '../Code')\n",
    "from nbclassifier_cb import NBClassifier"
   ]
  },
  {
   "cell_type": "code",
   "execution_count": 2,
   "metadata": {
    "collapsed": false
   },
   "outputs": [],
   "source": [
    "pos_path = os.path.expanduser(\"~/Dropbox/NLP Readings/hw 2/hotelPosT-rand_training.txt\")\n",
    "neg_path = os.path.expanduser(\"~/Dropbox/NLP Readings/hw 2/hotelNegT-rand_training.txt\")\n",
    "test_path = os.path.expanduser(\"~/Dropbox/NLP Readings/hw 2/rand_test_neg_and_pos.txt\")\n",
    "eval_path = os.path.expanduser(\"~/Dropbox/NLP Readings/hw 2/eval_rand_neg_and_pos.txt\")"
   ]
  },
  {
   "cell_type": "code",
   "execution_count": 3,
   "metadata": {
    "collapsed": true
   },
   "outputs": [],
   "source": [
    "def file_to_tuples(path, cat):\n",
    "    \"\"\"\n",
    "    Create and normalize document tuples from path.\n",
    "    \n",
    "    Returns list of tuples: [(text, cat), ...]\n",
    "    \"\"\"\n",
    "    tuples = []\n",
    "    with open(path) as f:\n",
    "        for line in f:\n",
    "            line = re.split('\\t', line)[1:] #ignore first and last element in the list.\n",
    "            line = line[0].lower()\n",
    "            line = line.rstrip()\n",
    "            line = re.sub(r'[^a-z|^0-9|^\\s]+', '' , line)\n",
    "            tuples.append((line, cat))\n",
    "    return tuples"
   ]
  },
  {
   "cell_type": "code",
   "execution_count": 4,
   "metadata": {
    "collapsed": false
   },
   "outputs": [],
   "source": [
    "pos_docs = file_to_tuples(pos_path, 'pos')\n",
    "neg_docs = file_to_tuples(neg_path, 'neg')"
   ]
  },
  {
   "cell_type": "code",
   "execution_count": 5,
   "metadata": {
    "collapsed": false
   },
   "outputs": [],
   "source": [
    "m = NBClassifier(['pos', 'neg'])\n",
    "m.train(pos_docs)\n",
    "m.train(neg_docs)"
   ]
  },
  {
   "cell_type": "code",
   "execution_count": 6,
   "metadata": {
    "collapsed": false
   },
   "outputs": [],
   "source": [
    "# make predictions\n",
    "predictions = {}\n",
    "with open(test_path) as f:\n",
    "    for line in f:\n",
    "        review_id, review = line.split(\"\\t\")\n",
    "        review = review.lower()\n",
    "        review = review.rstrip()\n",
    "        review = re.sub(r'[^a-z|^0-9|^\\s]+', '' , review)\n",
    "        cat = m.predict(review)\n",
    "        predictions[review_id] = cat"
   ]
  },
  {
   "cell_type": "code",
   "execution_count": 7,
   "metadata": {
    "collapsed": false
   },
   "outputs": [],
   "source": [
    "# get gold categories\n",
    "golden = {}\n",
    "with open(eval_path) as f:\n",
    "    for line in f:\n",
    "        review_id, cat = line.split(\"\\t\")\n",
    "        golden[review_id] = cat.lower().rstrip()"
   ]
  },
  {
   "cell_type": "code",
   "execution_count": 8,
   "metadata": {
    "collapsed": false
   },
   "outputs": [],
   "source": [
    "def evaluate(gold_dict, pred_dict, beta=1):\n",
    "    tp, tn, fp, fn = 0, 0, 0, 0\n",
    "    for review_id, cat in pred_dict.items():\n",
    "        golden_cat = gold_dict[review_id]\n",
    "        if golden_cat == 'pos':\n",
    "            if cat == 'pos':\n",
    "                tp += 1\n",
    "            else:\n",
    "                fn += 1\n",
    "        else:\n",
    "            if cat == 'pos':\n",
    "                fp += 1\n",
    "            else:\n",
    "                tn += 1\n",
    "    precision = tp / (tp+fp)\n",
    "    recall = tp / (tp+fn)\n",
    "    accuracy = (tp + tn)/(tp+tn+fp+fn)\n",
    "    f1 = ((beta**2 + 1) * precision * recall) / ((beta**2 * precision) + recall)\n",
    "    #print(tp, tn, fp, fn)\n",
    "    return (f1, accuracy, precision, recall)"
   ]
  },
  {
   "cell_type": "code",
   "execution_count": 9,
   "metadata": {
    "collapsed": false
   },
   "outputs": [
    {
     "data": {
      "text/plain": [
       "(0.9411764705882353,\n",
       " 0.9473684210526315,\n",
       " 0.9411764705882353,\n",
       " 0.9411764705882353)"
      ]
     },
     "execution_count": 9,
     "metadata": {},
     "output_type": "execute_result"
    }
   ],
   "source": [
    "evaluate(golden, predictions)"
   ]
  },
  {
   "cell_type": "code",
   "execution_count": null,
   "metadata": {
    "collapsed": true
   },
   "outputs": [],
   "source": []
  },
  {
   "cell_type": "code",
   "execution_count": null,
   "metadata": {
    "collapsed": true
   },
   "outputs": [],
   "source": []
  }
 ],
 "metadata": {
  "kernelspec": {
   "display_name": "Python 3",
   "language": "python",
   "name": "python3"
  },
  "language_info": {
   "codemirror_mode": {
    "name": "ipython",
    "version": 3
   },
   "file_extension": ".py",
   "mimetype": "text/x-python",
   "name": "python",
   "nbconvert_exporter": "python",
   "pygments_lexer": "ipython3",
   "version": "3.5.2+"
  }
 },
 "nbformat": 4,
 "nbformat_minor": 2
}
