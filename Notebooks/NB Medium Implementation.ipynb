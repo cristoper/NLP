{
 "cells": [
  {
   "cell_type": "code",
   "execution_count": 173,
   "metadata": {
    "collapsed": true
   },
   "outputs": [],
   "source": [
    "from collections import Counter\n",
    "import re\n",
    "import math"
   ]
  },
  {
   "cell_type": "code",
   "execution_count": 175,
   "metadata": {
    "collapsed": true
   },
   "outputs": [],
   "source": [
    "dat = []\n",
    "def get_training(path):\n",
    "    with open(path) as f:\n",
    "        for line in f:\n",
    "            line = re.split(' |\\t|\\n', line)[1:-1] #ignore first and last element in the list. \n",
    "            dat.append(line)\n",
    "\n",
    "    new_list = [item for sublist in dat for item in sublist]\n",
    "    return new_list"
   ]
  },
  {
   "cell_type": "code",
   "execution_count": 176,
   "metadata": {
    "collapsed": true
   },
   "outputs": [],
   "source": [
    "wd = \"/Users/amyburkhardt/Dropbox/NLP Readings/hw 2/\""
   ]
  },
  {
   "cell_type": "code",
   "execution_count": 177,
   "metadata": {
    "collapsed": true
   },
   "outputs": [],
   "source": [
    "class1 = get_training(\"{}hotelPosT-rand_training.txt\".format(wd))\n",
    "class2 = get_training(\"{}hotelNegT-rand_training.txt\".format(wd))"
   ]
  },
  {
   "cell_type": "code",
   "execution_count": 178,
   "metadata": {
    "collapsed": true
   },
   "outputs": [],
   "source": [
    "# compute priors(prof said to ignore prior)\n",
    "p_class1 = math.log2(.5)\n",
    "p_class2 = math.log2(.5)"
   ]
  },
  {
   "cell_type": "code",
   "execution_count": 189,
   "metadata": {
    "collapsed": true
   },
   "outputs": [],
   "source": [
    "def naive_bayes(): \n",
    "\n",
    "    \n",
    "    def preprocess (class_words): \n",
    "        class_words = [x.upper() for x in class_words]\n",
    "        class_words = [re.sub(r'[^A-Za-z|^0-9]+', '',x) for x in class_words] \n",
    "        return  class_words\n",
    "    \n",
    "    def countwords(class_words): \n",
    "        count = dict(Counter(class_words))\n",
    "        return count\n",
    "\n",
    "    def lenwords (class_words):\n",
    "        total = len(class_words)\n",
    "        return total\n",
    "        \n",
    "    def conditional_prob (count, total): \n",
    "        cond_prob_class1 = {}\n",
    "        keys = []\n",
    "        prob = []\n",
    "        for word in set(merge):\n",
    "            try: \n",
    "                probs = math.log2((count[word] + 1) / (total + V))\n",
    "            except: \n",
    "                probs = math.log2((1) / (total + V))\n",
    "    \n",
    "            keys.append(word)\n",
    "            prob.append(probs)\n",
    "\n",
    "        conditional = dict(zip(keys, prob))  \n",
    "        return conditional\n",
    "\n",
    "    def compute_prob_test (test, conditional_prob, prior):\n",
    "        prob = prior\n",
    "        for word in test:\n",
    "            if word in conditional_prob: \n",
    "                prob = conditional_prob[word] + prob\n",
    "        return prob\n",
    "    \n",
    "    \n",
    "    def evaluate (prob_1, prob_2):\n",
    "        if prob_1 > prob_2: \n",
    "            result = 'POS'\n",
    "        else:\n",
    "            result = 'NEG'\n",
    "        return result\n",
    "            \n",
    "    c1 = preprocess(class1)\n",
    "    c2 = preprocess(class2)\n",
    "    c1_count = countwords(c1)\n",
    "    c2_count = countwords(c2)\n",
    "    c1_total = lenwords(c1)\n",
    "    c2_total = lenwords(c2)\n",
    "    merge = c1 + c2\n",
    "    V = len(set(merge))\n",
    "    \n",
    "    class_1_conditional = conditional_prob(c1_count, c1_total)\n",
    "    class_2_conditional = conditional_prob(c2_count, c2_total)\n",
    "    \n",
    "    \n",
    "    with open(\"{}rand_test_neg_and_pos.txt\".format(wd)) as f:\n",
    "        for line in f:\n",
    "            review = re.split(' |\\t|\\n', line)[1:-1] #ignore first and last element in list\n",
    "            t = preprocess(review)\n",
    "            prob1 = compute_prob_test(t, class_1_conditional, p_class1)\n",
    "            prob2 = compute_prob_test(t, class_2_conditional, p_class2)\n",
    "            result = evaluate(prob1, prob2)\n",
    "            with open(\"{}test_output.txt\".format(wd), \"a\") as text_file:\n",
    "                text_file.write(\"{}\\t{}\\n\".format(review_id, result))\n",
    "            text_file.close() "
   ]
  },
  {
   "cell_type": "code",
   "execution_count": 190,
   "metadata": {},
   "outputs": [],
   "source": [
    "naive_bayes()"
   ]
  }
 ],
 "metadata": {
  "kernelspec": {
   "display_name": "Python 3",
   "language": "python",
   "name": "python3"
  },
  "language_info": {
   "codemirror_mode": {
    "name": "ipython",
    "version": 3
   },
   "file_extension": ".py",
   "mimetype": "text/x-python",
   "name": "python",
   "nbconvert_exporter": "python",
   "pygments_lexer": "ipython3",
   "version": "3.5.2"
  }
 },
 "nbformat": 4,
 "nbformat_minor": 2
}
